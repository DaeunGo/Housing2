subdf1 = melbourne_df[melbourne_df["new_type"]==0]
subdf2 = melbourne_df[melbourne_df["new_type"]==1]
subdf3 = melbourne_df[melbourne_df["new_type"]==2]

melbourne_predictors = ['Rooms','new_type', 'new_method', 'Distance', 'Bedroom2', 'Bathroom',
       'Car', 'Landsize', 'BuildingArea', 'YearBuilt',
       'Lattitude', 'Longtitude', 'Propertycount']

sub1_predictors_df = subdf1[melbourne_predictors]
sub2_predictors_df = subdf2[melbourne_predictors]
sub3_predictors_df = subdf3[melbourne_predictors]


sub1_response_df = subdf1["Price"]
sub2_response_df = subdf2["Price"]
sub3_response_df = subdf3["Price"]


sub1_predictors_train, sub1_predictors_val, sub1_resp_train, sub1_resp_val = train_test_split(sub1_predictors_df, 
                                                                                              sub1_response_df, test_size = 0.2,
                                                                                              random_state = 0)

sub2_predictors_train, sub2_predictors_val, sub2_resp_train, sub2_resp_val = train_test_split(sub2_predictors_df, 
                                                                                              sub2_response_df, test_size = 0.2,
                                                                                              random_state = 0)

sub3_predictors_train, sub3_predictors_val, sub3_resp_train, sub3_resp_val = train_test_split(sub3_predictors_df, 
                                                                                              sub3_response_df, test_size = 0.2,
                                                                                              random_state = 0)
